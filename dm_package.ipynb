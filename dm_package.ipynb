{
  "nbformat": 4,
  "nbformat_minor": 0,
  "metadata": {
    "colab": {
      "provenance": [],
      "authorship_tag": "ABX9TyNmLqKYMVS1mL/epeVP0YJl",
      "include_colab_link": true
    },
    "kernelspec": {
      "name": "python3",
      "display_name": "Python 3"
    },
    "language_info": {
      "name": "python"
    }
  },
  "cells": [
    {
      "cell_type": "markdown",
      "metadata": {
        "id": "view-in-github",
        "colab_type": "text"
      },
      "source": [
        "<a href=\"https://colab.research.google.com/github/pranathiir/random/blob/main/dm_package.ipynb\" target=\"_parent\"><img src=\"https://colab.research.google.com/assets/colab-badge.svg\" alt=\"Open In Colab\"/></a>"
      ]
    },
    {
      "cell_type": "code",
      "execution_count": null,
      "metadata": {
        "id": "x5XFgK3k66LS"
      },
      "outputs": [],
      "source": [
        "# import required packages\n",
        "import urllib.request as urllib2\n",
        "import pandas as pd\n",
        "from bs4 import BeautifulSoup\n",
        "\n",
        "\n",
        "def main():\n",
        "    # opening html file with BeautifulSoup\n",
        "    with open('2018-03-21/2018-03-21-PSL-Innings2.html') as fp:\n",
        "        innings_soup = BeautifulSoup(fp, \"html5lib\")\n",
        "\n",
        "    # create an empty dataframe\n",
        "    ball_df = pd.DataFrame(columns=['ball', 'score', 'commentary'])\n",
        "\n",
        "    # create empty lists for each of the data you want\n",
        "    ball_numbers = list()\n",
        "    ball_score = list()\n",
        "    ball_desc = list()\n",
        "\n",
        "    # get data from div classes\n",
        "    # for ball numbers\n",
        "    for div in innings_soup.findAll('div', {'class': 'time-stamp'}):\n",
        "        # ball_data[div.find('div').attrs['class'][0]] = div.text.strip()\n",
        "        ball_numbers.append(div.text)\n",
        "\n",
        "    # for score on each ball\n",
        "    for div in innings_soup.findAll('div', {'class': 'over-circle'}):\n",
        "        ball_score.append(div.text)\n",
        "\n",
        "    # for description of each ball\n",
        "    for div in innings_soup.findAll('div', {'class': 'description'}):\n",
        "        ball_desc.append(div.text)\n",
        "\n",
        "    # save lists in respective dataframe columns\n",
        "    ball_df.ball = ball_numbers\n",
        "    ball_df.score = ball_score\n",
        "    ball_df.commentary = ball_desc\n",
        "\n",
        "    # save dataframe as csv or json\n",
        "    ball_df.to_csv(\"2018-03-21-innings2.csv\", sep=',', index=False)\n",
        "    ball_df.to_json(\"2018-03-21-innings2.json\", orient='records')\n",
        "\n",
        "\n",
        "if __name__ == '__main__':\n",
        "    main()"
      ]
    }
  ]
}