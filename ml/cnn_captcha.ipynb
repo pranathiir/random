{
  "nbformat": 4,
  "nbformat_minor": 0,
  "metadata": {
    "colab": {
      "provenance": []
    },
    "kernelspec": {
      "name": "python3",
      "display_name": "Python 3"
    },
    "language_info": {
      "name": "python"
    }
  },
  "cells": [
    {
      "cell_type": "code",
      "execution_count": null,
      "metadata": {
        "id": "fOHxl6Yz4hBf"
      },
      "outputs": [],
      "source": [
        "import os\n",
        "import matplotlib.pyplot as plt\n",
        "import numpy as np\n",
        "import random\n",
        "import cv2\n",
        "\n",
        "np.random.seed(1)\n",
        "random.seed(1)\n",
        "\n",
        "src_dir = '/content/drive/MyDrive/captcha_images'\n",
        "img_paths = [f for f in os.listdir(src_dir) if f.lower().endswith(('.png', '.jpg'))]\n",
        "\n",
        "#view an example CAPTCHA\n",
        "img = cv2.imread(os.path.join(src_dir, img_paths[0]))\n",
        "plt.imshow(img)\n",
        "plt.title(f'Shape: {img.shape}')\n",
        "plt.show()\n",
        "\n",
        "#get list of ground-truth labels from image filenames\n",
        "labels = [img_path.split('.')[0] for img_path in img_paths]\n",
        "\n",
        "#get count of each unique char\n",
        "char_counts = {}\n",
        "for label in labels:\n",
        "    for char in label:\n",
        "        if char not in char_counts:\n",
        "            char_counts[char] = 1\n",
        "        else:\n",
        "            char_counts[char] += 1\n",
        "\n",
        "#sort by character\n",
        "char_counts = sorted(char_counts.items())\n",
        "#convert items to two stand-alone lists\n",
        "chars = [char_count[0] for char_count in char_counts]\n",
        "counts = [char_count[1] for char_count in char_counts]\n",
        "#print(chars)\n",
        "chars.reverse()\n",
        "counts.reverse()\n",
        "plt.figure(figsize=(10, 10))\n",
        "\n",
        "bars = plt.barh(y=chars, width=counts, height=0.6)\n",
        "for bar in bars:\n",
        "    print(bar)\n",
        "    w = bar.get_width()\n",
        "    y = bar.get_y()\n",
        "    h = bar.get_height()\n",
        "    plt.text(w+40, y+h/2, w, ha='center', va='center')\n",
        "    #print()\n",
        "\n",
        "plt.xlim(0, 1500)\n",
        "plt.grid(linestyle='-', axis='x')\n",
        "plt.title(f'Character counts in CAPTCHA labels ({len(chars)} unique characters)')\n",
        "plt.show()\n",
        "print(chars)\n"
      ]
    },
    {
      "cell_type": "code",
      "source": [
        "from google.colab import drive\n",
        "drive.mount('/content/drive')"
      ],
      "metadata": {
        "id": "ijs_dtToAU-i"
      },
      "execution_count": null,
      "outputs": []
    },
    {
      "cell_type": "markdown",
      "source": [
        "##character segmentation"
      ],
      "metadata": {
        "id": "pnFG4ZJp5vRG"
      }
    },
    {
      "cell_type": "code",
      "source": [
        "fig = plt.figure(figsize=(14, 10))\n",
        "\n",
        "plt_rows = 4\n",
        "plt_cols = 2\n",
        "plt_iter = 1\n",
        "\n",
        "plt.subplots_adjust(hspace=0.5)\n",
        "\n",
        "for i in range(plt_rows*plt_cols):\n",
        "    plt.subplot(plt_rows, plt_cols, plt_iter)\n",
        "\n",
        "    img_index = np.random.randint(0, len(img_paths))\n",
        "    img = cv2.imread(os.path.join(src_dir, img_paths[img_index]))                 #load random image\n",
        "    img_gray = cv2.cvtColor(img, cv2.COLOR_BGR2GRAY)                              #convert to grayscale\n",
        "    ret, thresh = cv2.threshold(img_gray, 200, 255, cv2.THRESH_BINARY)            #take binary threshold\n",
        "    bit_not = cv2.bitwise_not(thresh)                                             #invert image\n",
        "    contours, hierarchy = cv2.findContours(bit_not, cv2.RETR_EXTERNAL, cv2.CHAIN_APPROX_NONE)   #find contours\n",
        "\n",
        "    #draw on orignal image\n",
        "    cv2.drawContours(img, contours, -1, (0, 255, 0), 1)\n",
        "    #get bounding rect of each contour\n",
        "    rects = [cv2.boundingRect(c) for c in contours]\n",
        "    #sort rects by their width\n",
        "    rects.sort(key=lambda x: x[2])\n",
        "\n",
        "    #deal with touching letters where one wide bounding box envlopes two letters. split these in half\n",
        "    while len(rects) < 4:\n",
        "        #pop widest rect\n",
        "        wide_rect = rects.pop()\n",
        "        x, y, w, h = wide_rect\n",
        "        #split in two\n",
        "        first_half = (x, y, w//2, h)\n",
        "        second_half = (x+w//2, y, w//2, h)\n",
        "        rects.append(first_half)\n",
        "        rects.append(second_half)\n",
        "        #re-sort rects by their width\n",
        "        rects.sort(key=lambda x: x[2])\n",
        "\n",
        "    for rect in rects:\n",
        "        x, y, w, h = rect\n",
        "        #buffer rect by 1 pixel\n",
        "        cv2.rectangle(img, (x-1, y-1), (x+w+1, y+h+1), (255, 0, 0), 1)\n",
        "\n",
        "    plt.imshow(img)\n",
        "    plt_iter += 1\n"
      ],
      "metadata": {
        "id": "2GK8S93K5zFN"
      },
      "execution_count": null,
      "outputs": []
    },
    {
      "cell_type": "code",
      "source": [
        "import os\n",
        "import matplotlib.pyplot as plt\n",
        "import numpy as np\n",
        "import random\n",
        "import cv2\n",
        "import time\n",
        "\n",
        "np.random.seed(1)\n",
        "random.seed(1)\n",
        "\n",
        "src_dir = '/content/drive/MyDrive/captcha_images'\n",
        "img_paths = [f for f in os.listdir(src_dir) if f.lower().endswith(('.png', '.jpg'))]\n",
        "\n",
        "# Loop through the images and extract and display individual characters\n",
        "for img_path in img_paths:\n",
        "    img = cv2.imread(os.path.join(src_dir, img_path))\n",
        "    img_gray = cv2.cvtColor(img, cv2.COLOR_BGR2GRAY)\n",
        "    ret, thresh = cv2.threshold(img_gray, 200, 255, cv2.THRESH_BINARY)\n",
        "    bit_not = cv2.bitwise_not(thresh)\n",
        "    contours, hierarchy = cv2.findContours(bit_not, cv2.RETR_EXTERNAL, cv2.CHAIN_APPROX_NONE)\n",
        "\n",
        "    # Get bounding rectangles for the characters\n",
        "    rects = [cv2.boundingRect(c) for c in contours]\n",
        "    rects.sort(key=lambda x: x[0])  # Sort by the x-coordinate to ensure correct character order\n",
        "\n",
        "    # Loop through each character and display it\n",
        "    for i, rect in enumerate(rects):\n",
        "        x, y, w, h = rect\n",
        "        char_image = img[y:y+h, x:x+w]\n",
        "        plt.subplot(1, len(rects), i + 1)\n",
        "        plt.imshow(char_image, cmap='gray')\n",
        "        plt.title(f'Character {i+1}')\n",
        "        plt.axis('off')\n",
        "\n",
        "    plt.show()\n",
        "\n",
        "    start_time = time.time()\n",
        "    end_time = time.time()  # Record the end time for performance measurement\n",
        "    elapsed_time = end_time - start_time\n",
        "    print(f\"Processing time for image {img_path}: {elapsed_time:.2f} seconds\")\n",
        "\n",
        "# Calculate the total time for processing all images\n",
        "end_time = time.time()\n",
        "total_elapsed_time = end_time - start_time\n",
        "print(f\"Total processing time for all images: {total_elapsed_time:.2f} seconds\")"
      ],
      "metadata": {
        "id": "bv81GzxqYVQv"
      },
      "execution_count": null,
      "outputs": []
    },
    {
      "cell_type": "markdown",
      "source": [],
      "metadata": {
        "id": "R7EB_vYGVkog"
      }
    }
  ]
}